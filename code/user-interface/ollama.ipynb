{
 "cells": [
  {
   "cell_type": "code",
   "execution_count": 12,
   "metadata": {},
   "outputs": [],
   "source": [
    "from langchain.llms import Ollama\n",
    "from langchain import PromptTemplate"
   ]
  },
  {
   "cell_type": "code",
   "execution_count": 16,
   "metadata": {},
   "outputs": [
    {
     "name": "stdout",
     "output_type": "stream",
     "text": [
      "\n",
      " India gained independence from British colonial rule on August 15, 1947. Therefore, there was no president of India before that date. The first president of independent India was Dr. Rajendra Prasad, who served as the President of India from 1950 to 1962."
     ]
    },
    {
     "data": {
      "text/plain": [
       "'\\n India gained independence from British colonial rule on August 15, 1947. Therefore, there was no president of India before that date. The first president of independent India was Dr. Rajendra Prasad, who served as the President of India from 1950 to 1962.'"
      ]
     },
     "execution_count": 16,
     "metadata": {},
     "output_type": "execute_result"
    }
   ],
   "source": [
    "from langchain.llms import Ollama\n",
    "from langchain.callbacks.manager import CallbackManager\n",
    "from langchain.callbacks.streaming_stdout import StreamingStdOutCallbackHandler                                  \n",
    "llm = Ollama(model=\"llama2\", callback_manager = CallbackManager([StreamingStdOutCallbackHandler()]))\n",
    "\n",
    "llm(\"Who was the first president of India?\")"
   ]
  },
  {
   "cell_type": "code",
   "execution_count": 19,
   "metadata": {},
   "outputs": [],
   "source": [
    "from langchain.llms import Ollama\n",
    "from langchain.callbacks.manager import CallbackManager\n",
    "from langchain.callbacks.streaming_stdout import StreamingStdOutCallbackHandler                                  \n",
    "llm = Ollama(model=\"neural-chat\", callback_manager = CallbackManager([StreamingStdOutCallbackHandler()]))\n",
    "\n",
    "llm(\"Who was the first president of India?\")"
   ]
  },
  {
   "cell_type": "code",
   "execution_count": null,
   "metadata": {},
   "outputs": [
    {
     "name": "stdout",
     "output_type": "stream",
     "text": [
      " World War II was a global war that lasted from 1939 to 1945, involving the majority of the world's nations—including all of the great powers—eventually forming two opposing military alliances: the Allies and the Axis. It was the deadliest conflict in human history, with an estimated 50 million to more than 85 million fatalities directly or indirectly related to the war. The war was primarily fought in Europe and Asia, but it also involved other theaters of operation, including North Africa, the Middle East, and the Pacific. The key events of the war included the Holocaust, the use of nuclear weapons, and the eventual defeat of the Axis powers, leading to the occupation of Germany and Japan."
     ]
    },
    {
     "data": {
      "text/plain": [
       "\" World War II was a global war that lasted from 1939 to 1945, involving the majority of the world's nations—including all of the great powers—eventually forming two opposing military alliances: the Allies and the Axis. It was the deadliest conflict in human history, with an estimated 50 million to more than 85 million fatalities directly or indirectly related to the war. The war was primarily fought in Europe and Asia, but it also involved other theaters of operation, including North Africa, the Middle East, and the Pacific. The key events of the war included the Holocaust, the use of nuclear weapons, and the eventual defeat of the Axis powers, leading to the occupation of Germany and Japan.\""
      ]
     },
     "execution_count": 3,
     "metadata": {},
     "output_type": "execute_result"
    }
   ],
   "source": [
    "from langchain.llms import Ollama\n",
    "from langchain.callbacks.manager import CallbackManager\n",
    "from langchain.callbacks.streaming_stdout import StreamingStdOutCallbackHandler                                  \n",
    "llm = Ollama(model=\"mistral\", callback_manager = CallbackManager([StreamingStdOutCallbackHandler()]))\n",
    "\n",
    "llm(\"Who was the first president of India?\")"
   ]
  },
  {
   "cell_type": "code",
   "execution_count": null,
   "metadata": {},
   "outputs": [],
   "source": []
  },
  {
   "cell_type": "code",
   "execution_count": null,
   "metadata": {},
   "outputs": [],
   "source": []
  },
  {
   "cell_type": "code",
   "execution_count": null,
   "metadata": {},
   "outputs": [],
   "source": []
  },
  {
   "cell_type": "code",
   "execution_count": null,
   "metadata": {},
   "outputs": [],
   "source": []
  }
 ],
 "metadata": {
  "kernelspec": {
   "display_name": "Python 3.10.12 ('pranesh-nlp')",
   "language": "python",
   "name": "python3"
  },
  "language_info": {
   "codemirror_mode": {
    "name": "ipython",
    "version": 3
   },
   "file_extension": ".py",
   "mimetype": "text/x-python",
   "name": "python",
   "nbconvert_exporter": "python",
   "pygments_lexer": "ipython3",
   "version": "3.10.12"
  },
  "orig_nbformat": 4,
  "vscode": {
   "interpreter": {
    "hash": "6cc0cdcdeb4f1b51d966a24e6e414689b74e530ed41b108f36d3478bc43fe0e3"
   }
  }
 },
 "nbformat": 4,
 "nbformat_minor": 2
}
