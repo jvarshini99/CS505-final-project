{
 "cells": [
  {
   "cell_type": "code",
   "execution_count": 2,
   "metadata": {},
   "outputs": [
    {
     "data": {
      "application/vnd.jupyter.widget-view+json": {
       "model_id": "e9f3cd7aa0fd439e9de04ce7a9bb988b",
       "version_major": 2,
       "version_minor": 0
      },
      "text/plain": [
       "VBox(children=(HTML(value='<center> <img\\nsrc=https://huggingface.co/front/assets/huggingface_logo-noborder.sv…"
      ]
     },
     "metadata": {},
     "output_type": "display_data"
    }
   ],
   "source": [
    "from huggingface_hub import notebook_login\n",
    "\n",
    "notebook_login()"
   ]
  },
  {
   "cell_type": "code",
   "execution_count": 5,
   "metadata": {},
   "outputs": [],
   "source": [
    "from transformers import pipeline, GPT2LMHeadModel, GPT2Tokenizer\n",
    "\n",
    "model_path = \"/Users/praneshjayasundar/Documents/Gunner/Boston-University/Fall-2023/student/CS505/final-project/health-assistant/model/gpt2-medical-v1\"\n",
    "\n",
    "tokenizer = GPT2Tokenizer.from_pretrained(model_path)\n",
    "model = GPT2LMHeadModel.from_pretrained(model_path)\n",
    "\n",
    "generator = pipeline(\"text-generation\", model=model, tokenizer=tokenizer)"
   ]
  },
  {
   "cell_type": "code",
   "execution_count": 9,
   "metadata": {},
   "outputs": [
    {
     "name": "stdout",
     "output_type": "stream",
     "text": [
      "When the head is in a state of severe headache, it's probably going to be the same as when the nose is just fine. It's not a very difficult headache. The headache is not serious at all. Most people don't experience any headache at the first sign of pain. If you have migraines, take a good migraine screening test and take the one-hour course of a medication called \"mild migraine.\" Then you can take it as soon as you get sick or in need of it. I have also read that some people who have had severe migraine headaches will do well. As you do the tests, you're going do your best to stop the headache for a week or two before you start to feel good again.\n",
      "\n",
      "What is a migraine headache?\n",
      "\n",
      "\n",
      "A migraine is defined as any of the following:\n",
      " (1) severe migrancy\n",
      "\n",
      "\n",
      " (2) a significant change in posture, weight, or other physical changes. (3) migraine with a strong enough pulse\n",
      "\n",
      "\n",
      "\n",
      "(4) persistent headaches that start long after a headache has started\n",
      "\n",
      ".\n",
      "\n",
      "*\n",
      "-\n",
      ": There is no clinical evidence that migraine has anything to do with weight loss. A number of\n"
     ]
    }
   ],
   "source": [
    "question = \"What are the symptoms of migraine?\"\n",
    "input_text = f\"Question: {question} Answer:\"\n",
    "input_ids = tokenizer.encode(input_text, return_tensors='pt')\n",
    "output = model.generate(\n",
    "    input_ids, \n",
    "    max_length=256, \n",
    "    num_return_sequences=1, \n",
    "    pad_token_id=tokenizer.eos_token_id,\n",
    "    no_repeat_ngram_size=2,\n",
    "    early_stopping=True,\n",
    "    do_sample=True,\n",
    "    temperature=0.8,\n",
    "    top_k=50,\n",
    "    top_p=0.95\n",
    ")\n",
    "\n",
    "generated_text = tokenizer.decode(output[0], skip_special_tokens=True)\n",
    "answer = generated_text.split(\"Answer:\")[1].strip() if \"Answer:\" in generated_text else generated_text\n",
    "print(answer)"
   ]
  },
  {
   "cell_type": "code",
   "execution_count": 20,
   "metadata": {},
   "outputs": [
    {
     "data": {
      "application/vnd.jupyter.widget-view+json": {
       "model_id": "63993892f7bc460fb16ca4fd655aa5c5",
       "version_major": 2,
       "version_minor": 0
      },
      "text/plain": [
       "Downloading:   0%|          | 0.00/418M [00:00<?, ?B/s]"
      ]
     },
     "metadata": {},
     "output_type": "display_data"
    }
   ],
   "source": [
    "# Use a pipeline as a high-level helper\n",
    "from transformers import pipeline\n",
    "\n",
    "pipe = pipeline(\"text-classification\", model=\"praneshgunner/finBert-medical-v3\")\n",
    "prompt = \"I have brain tumor stage IV\"\n",
    "result = pipe(prompt)\n",
    "print(result)"
   ]
  },
  {
   "cell_type": "code",
   "execution_count": 26,
   "metadata": {},
   "outputs": [
    {
     "name": "stderr",
     "output_type": "stream",
     "text": [
      "Special tokens have been added in the vocabulary, make sure the associated word embeddings are fine-tuned or trained.\n",
      "Setting `pad_token_id` to `eos_token_id`:50256 for open-end generation.\n"
     ]
    },
    {
     "name": "stdout",
     "output_type": "stream",
     "text": [
      "[{'generated_text': 'What are the symptoms of brain tumor?\\n\\nFirst of all, there is the same symptoms that come to plague our everyday living when it comes to cancer. One of the signs is a spike in lymphocytes that move from the front end of your'}]\n"
     ]
    }
   ],
   "source": [
    "# Use a pipeline as a high-level helper\n",
    "from transformers import pipeline\n",
    "\n",
    "pipe = pipeline(\"text-generation\", model=\"praneshgunner/gpt2-medical-v2\")\n",
    "prompt = \"What are the symptoms of brain tumor?\"\n",
    "result = pipe(prompt)\n",
    "print(result)"
   ]
  },
  {
   "cell_type": "code",
   "execution_count": 29,
   "metadata": {},
   "outputs": [
    {
     "name": "stderr",
     "output_type": "stream",
     "text": [
      "Special tokens have been added in the vocabulary, make sure the associated word embeddings are fine-tuned or trained.\n",
      "Setting `pad_token_id` to `eos_token_id`:50256 for open-end generation.\n"
     ]
    },
    {
     "name": "stdout",
     "output_type": "stream",
     "text": [
      "[{'generated_text': 'What are the symptoms of cold?\\n\\nA cold is caused by the body and the body responds quickly by responding to cold. It typically changes over time and develops a fever and weakness. If your body does not respond well to cold temperatures, you'}]\n"
     ]
    }
   ],
   "source": [
    "# Use a pipeline as a high-level helper\n",
    "from transformers import pipeline\n",
    "\n",
    "pipe = pipeline(\"text-generation\", model=\"praneshgunner/gpt2-medical-v1\")\n",
    "prompt = \"What are the symptoms of cold?\"\n",
    "result = pipe(prompt)\n",
    "print(result)"
   ]
  },
  {
   "cell_type": "code",
   "execution_count": 40,
   "metadata": {},
   "outputs": [
    {
     "name": "stdout",
     "output_type": "stream",
     "text": [
      "Common cold is a cold that is caused by a virus or bacteria. Common Cold is not a disease. It is an illness.\n",
      "\n",
      "Common cold can be caused either by:\n",
      ". A cold caused in part by the cold. The cold may be a result of a viral infection. This infection may cause a person to become ill. If you have a fever, you may have an infection that causes a rash. You may also have symptoms of colds that are similar to those of flu. These symptoms may include: fever\n",
      ", headache, muscle aches, and weakness. Your body may become cold and you will have to take antibiotics. Some people may experience a mild cold, but this is usually not the case. People who have common infections may not have the same symptoms. For example, if you are allergic to certain foods, such as peanuts, your body might not be able to produce antibodies to the food. In addition, some people have severe cold symptoms, which may lead to a severe illness like a flu or pneumonia. Many people who are infected with common viruses or bacterial infections are not able or unwilling to get vaccinated. They may develop a condition called \"colds\" that can cause them\n"
     ]
    }
   ],
   "source": [
    "from transformers import GPT2LMHeadModel, GPT2Tokenizer\n",
    "\n",
    "model_save_path=\"praneshgunner/gpt2-medical-v1\"\n",
    "model = GPT2LMHeadModel.from_pretrained(model_save_path)\n",
    "tokenizer = GPT2Tokenizer.from_pretrained(model_save_path)\n",
    "\n",
    "question = \"What are the side effects of common cold?\"\n",
    "input_text = f\"Question: {question} Answer:\"\n",
    "input_ids = tokenizer.encode(input_text, return_tensors='pt')\n",
    "output = model.generate(\n",
    "    input_ids, \n",
    "    max_length=256, \n",
    "    num_return_sequences=1, \n",
    "    pad_token_id=tokenizer.eos_token_id,\n",
    "    no_repeat_ngram_size=2,\n",
    "    # early_stopping=True,\n",
    "    # do_sample=True,\n",
    "    temperature=0.3,\n",
    "    top_k=50,\n",
    "    # top_p=0.95\n",
    ")\n",
    "\n",
    "generated_text = tokenizer.decode(output[0], skip_special_tokens=True)\n",
    "answer = generated_text.split(\"Answer:\")[1].strip() if \"Answer:\" in generated_text else generated_text\n",
    "print(answer)"
   ]
  },
  {
   "cell_type": "code",
   "execution_count": 41,
   "metadata": {},
   "outputs": [],
   "source": [
    "from transformers import GPT2LMHeadModel, GPT2Tokenizer\n",
    "\n",
    "model_save_path=\"praneshgunner/gpt2-medical-v1\"\n",
    "model = GPT2LMHeadModel.from_pretrained(model_save_path)\n",
    "tokenizer = GPT2Tokenizer.from_pretrained(model_save_path)\n",
    "\n",
    "question = \"What are the side effects of brain tumor?\"\n",
    "input_text = f\"Question: {question} Answer:\"\n",
    "input_ids = tokenizer.encode(input_text, return_tensors='pt')\n",
    "output = model.generate(\n",
    "    input_ids, \n",
    "    max_length=256, \n",
    "    num_return_sequences=1, \n",
    "    pad_token_id=tokenizer.eos_token_id,\n",
    "    no_repeat_ngram_size=2,\n",
    "    # early_stopping=True,\n",
    "    # do_sample=True,\n",
    "    temperature=0.3,\n",
    "    top_k=50,\n",
    "    # top_p=0.95\n",
    ")\n",
    "\n",
    "generated_text = tokenizer.decode(output[0], skip_special_tokens=True)\n",
    "answer = generated_text.split(\"Answer:\")[1].strip() if \"Answer:\" in generated_text else generated_text\n",
    "print(answer)"
   ]
  },
  {
   "cell_type": "code",
   "execution_count": null,
   "metadata": {},
   "outputs": [],
   "source": []
  }
 ],
 "metadata": {
  "kernelspec": {
   "display_name": "Python 3.10.12 ('pranesh-nlp')",
   "language": "python",
   "name": "python3"
  },
  "language_info": {
   "codemirror_mode": {
    "name": "ipython",
    "version": 3
   },
   "file_extension": ".py",
   "mimetype": "text/x-python",
   "name": "python",
   "nbconvert_exporter": "python",
   "pygments_lexer": "ipython3",
   "version": "3.10.12"
  },
  "orig_nbformat": 4,
  "vscode": {
   "interpreter": {
    "hash": "6cc0cdcdeb4f1b51d966a24e6e414689b74e530ed41b108f36d3478bc43fe0e3"
   }
  }
 },
 "nbformat": 4,
 "nbformat_minor": 2
}
